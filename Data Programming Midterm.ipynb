{
  "nbformat": 4,
  "nbformat_minor": 0,
  "metadata": {
    "colab": {
      "provenance": []
    },
    "kernelspec": {
      "name": "python3",
      "display_name": "Python 3"
    },
    "language_info": {
      "name": "python"
    }
  },
  "cells": [
    {
      "cell_type": "code",
      "execution_count": 1,
      "metadata": {
        "colab": {
          "base_uri": "https://localhost:8080/"
        },
        "id": "rRMfLyX6LVXq",
        "outputId": "7768aafd-ea11-42fc-aa5d-e311a02939e4"
      },
      "outputs": [
        {
          "output_type": "stream",
          "name": "stdout",
          "text": [
            "Length: 5.0\n",
            "Slope: 1.3333333333333333\n"
          ]
        }
      ],
      "source": [
        "import math\n",
        "\n",
        "class Point:\n",
        "    def __init__(self, x=0, y=0):\n",
        "        self.x = x\n",
        "        self.y = y\n",
        "\n",
        "class Segment:\n",
        "    def __init__(self, p1, p2):\n",
        "        self.p1 = p1\n",
        "        self.p2 = p2\n",
        "\n",
        "    def length(self):\n",
        "        return math.sqrt((self.p2.x - self.p1.x)**2 + (self.p2.y - self.p1.y)**2)\n",
        "\n",
        "    def slope(self):\n",
        "        if self.p2.x - self.p1.x == 0:\n",
        "            return None\n",
        "        else:\n",
        "            return (self.p2.y - self.p1.y) / (self.p2.x - self.p1.x)\n",
        "\n",
        "p1 = Point(3, 4)\n",
        "p2 = Point()\n",
        "s = Segment(p1, p2)\n",
        "\n",
        "print(\"Length:\", s.length())\n",
        "print(\"Slope:\", s.slope())"
      ]
    }
  ]
}